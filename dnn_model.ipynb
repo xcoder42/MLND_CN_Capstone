{
 "cells": [
  {
   "cell_type": "code",
   "execution_count": 1,
   "metadata": {},
   "outputs": [
    {
     "name": "stderr",
     "output_type": "stream",
     "text": [
      "Using TensorFlow backend.\n"
     ]
    }
   ],
   "source": [
    "%load_ext autoreload\n",
    "%autoreload 2\n",
    "import numpy as np\n",
    "import pandas as pd\n",
    "import pickle\n",
    "from sklearn.preprocessing import StandardScaler\n",
    "from sklearn.preprocessing import MinMaxScaler\n",
    "from keras.callbacks import EarlyStopping, ModelCheckpoint\n",
    "from keras.utils.vis_utils import plot_model\n",
    "from sklearn.model_selection  import KFold\n",
    "from sklearn.model_selection import train_test_split\n",
    "from utils import _save, _load, SaveData\n",
    "from model_build.dnn_model import *\n",
    "np.set_printoptions(suppress=True)"
   ]
  },
  {
   "cell_type": "code",
   "execution_count": 2,
   "metadata": {},
   "outputs": [],
   "source": [
    "# 加载词序列和embedding_matrix\n",
    "save_data = _load('./dataset/glove_embedding_data.pkl')\n",
    "train_pad_1 = save_data.train_pad_1\n",
    "train_pad_2 = save_data.train_pad_2\n",
    "labels = save_data.labels\n",
    "test_pad_1 = save_data.test_pad_1\n",
    "test_pad_2 = save_data.test_pad_2\n",
    "test_ids = save_data.test_ids\n",
    "embedding_matrix = save_data.embedding_matrix\n",
    "num_words = save_data.num_words"
   ]
  },
  {
   "cell_type": "code",
   "execution_count": 4,
   "metadata": {},
   "outputs": [],
   "source": [
    "sequence_length = train_pad_1.shape[1]\n",
    "embedding_dim = embedding_matrix.shape[1]"
   ]
  },
  {
   "cell_type": "code",
   "execution_count": 5,
   "metadata": {},
   "outputs": [],
   "source": [
    "# 加载特征\n",
    "fs_basic = pd.read_csv('feature_store/train_feature_basic.csv')\n",
    "fs_fuzz = pd.read_csv('feature_store/train_feature_fuzz.csv')\n",
    "fs_w2v_gnews = pd.read_csv('feature_store/train_feature_w2v_gnews.csv')\n",
    "fs_tfidf = pd.read_csv('feature_store/train_feature_tfidf.csv')\n",
    "fs_w2v_glove = pd.read_csv('feature_store/train_feature_w2v_glove.csv')\n",
    "fs_graph = pd.read_csv('feature_store/train_feature_graph.csv')\n",
    "fs_freq = pd.read_csv('feature_store/train_feature_freq.csv')"
   ]
  },
  {
   "cell_type": "code",
   "execution_count": 6,
   "metadata": {},
   "outputs": [],
   "source": [
    "fs_w2v_gnews.fillna(0,inplace=True)\n",
    "fs_w2v_glove.fillna(0,inplace=True)\n",
    "fs_tfidf.fillna(0,inplace=True)"
   ]
  },
  {
   "cell_type": "code",
   "execution_count": 21,
   "metadata": {},
   "outputs": [],
   "source": [
    "X = np.hstack((fs_basic, fs_fuzz, fs_w2v_gnews, fs_tfidf, fs_w2v_glove, fs_freq, fs_graph))\n",
    "X[np.isinf(X)] = 0"
   ]
  },
  {
   "cell_type": "code",
   "execution_count": 22,
   "metadata": {},
   "outputs": [],
   "source": [
    "all_X = np.hstack([train_pad_1, train_pad_2, X])\n",
    "X_train, X_valid, y_train, y_valid = train_test_split(all_X, np.array(labels), test_size=0.2, random_state=0)\n",
    "X_train_1 = X_train[:,:sequence_length]\n",
    "X_train_2 = X_train[:,sequence_length:-X.shape[1]]\n",
    "X_train_fs = X_train[:,-X.shape[1]:]\n",
    "X_valid_1 = X_valid[:,:sequence_length]\n",
    "X_valid_2 = X_valid[:,sequence_length:-X.shape[1]]\n",
    "X_valid_fs = X_valid[:,-X.shape[1]:]"
   ]
  },
  {
   "cell_type": "markdown",
   "metadata": {},
   "source": [
    "### 模型实验"
   ]
  },
  {
   "cell_type": "code",
   "execution_count": 5,
   "metadata": {},
   "outputs": [],
   "source": [
    "model = build_model_lstm_cnn_fs_v2(\n",
    "    feature_num=52,\n",
    "    num_words=num_words,\n",
    "    embedding_dim=embedding_dim,\n",
    "    embedding_matrix=embedding_matrix,\n",
    "    max_sequence_length=sequence_length,\n",
    "    rate_drop_dense=0.4,\n",
    "    rate_drop_lstm=0.2\n",
    ")"
   ]
  },
  {
   "cell_type": "code",
   "execution_count": 6,
   "metadata": {},
   "outputs": [
    {
     "name": "stdout",
     "output_type": "stream",
     "text": [
      "__________________________________________________________________________________________________\n",
      "Layer (type)                    Output Shape         Param #     Connected to                     \n",
      "==================================================================================================\n",
      "input_1 (InputLayer)            (None, 30)           0                                            \n",
      "__________________________________________________________________________________________________\n",
      "input_2 (InputLayer)            (None, 30)           0                                            \n",
      "__________________________________________________________________________________________________\n",
      "embedding_1 (Embedding)         (None, 30, 300)      1329300     input_1[0][0]                    \n",
      "                                                                 input_2[0][0]                    \n",
      "__________________________________________________________________________________________________\n",
      "conv1d_1 (Conv1D)               (None, 30, 64)       19264       embedding_1[0][0]                \n",
      "                                                                 embedding_1[1][0]                \n",
      "__________________________________________________________________________________________________\n",
      "conv1d_2 (Conv1D)               (None, 30, 64)       57664       embedding_1[0][0]                \n",
      "                                                                 embedding_1[1][0]                \n",
      "__________________________________________________________________________________________________\n",
      "conv1d_3 (Conv1D)               (None, 30, 64)       96064       embedding_1[0][0]                \n",
      "                                                                 embedding_1[1][0]                \n",
      "__________________________________________________________________________________________________\n",
      "global_average_pooling1d_1 (Glo (None, 64)           0           conv1d_1[0][0]                   \n",
      "__________________________________________________________________________________________________\n",
      "global_average_pooling1d_3 (Glo (None, 64)           0           conv1d_2[0][0]                   \n",
      "__________________________________________________________________________________________________\n",
      "global_average_pooling1d_5 (Glo (None, 64)           0           conv1d_3[0][0]                   \n",
      "__________________________________________________________________________________________________\n",
      "global_average_pooling1d_2 (Glo (None, 64)           0           conv1d_1[1][0]                   \n",
      "__________________________________________________________________________________________________\n",
      "global_average_pooling1d_4 (Glo (None, 64)           0           conv1d_2[1][0]                   \n",
      "__________________________________________________________________________________________________\n",
      "global_average_pooling1d_6 (Glo (None, 64)           0           conv1d_3[1][0]                   \n",
      "__________________________________________________________________________________________________\n",
      "concatenate_1 (Concatenate)     (None, 192)          0           global_average_pooling1d_1[0][0] \n",
      "                                                                 global_average_pooling1d_3[0][0] \n",
      "                                                                 global_average_pooling1d_5[0][0] \n",
      "__________________________________________________________________________________________________\n",
      "concatenate_2 (Concatenate)     (None, 192)          0           global_average_pooling1d_2[0][0] \n",
      "                                                                 global_average_pooling1d_4[0][0] \n",
      "                                                                 global_average_pooling1d_6[0][0] \n",
      "__________________________________________________________________________________________________\n",
      "input_3 (InputLayer)            (None, 52)           0                                            \n",
      "__________________________________________________________________________________________________\n",
      "bidirectional_1 (Bidirectional) (None, 128)          186880      embedding_1[0][0]                \n",
      "                                                                 embedding_1[1][0]                \n",
      "__________________________________________________________________________________________________\n",
      "lambda_1 (Lambda)               (None, 192)          0           concatenate_1[0][0]              \n",
      "                                                                 concatenate_2[0][0]              \n",
      "__________________________________________________________________________________________________\n",
      "lambda_2 (Lambda)               (None, 192)          0           concatenate_1[0][0]              \n",
      "                                                                 concatenate_2[0][0]              \n",
      "__________________________________________________________________________________________________\n",
      "batch_normalization_1 (BatchNor (None, 52)           208         input_3[0][0]                    \n",
      "__________________________________________________________________________________________________\n",
      "add_1 (Add)                     (None, 128)          0           bidirectional_1[0][0]            \n",
      "                                                                 bidirectional_1[1][0]            \n",
      "__________________________________________________________________________________________________\n",
      "lambda_3 (Lambda)               (None, 128)          0           bidirectional_1[0][0]            \n",
      "                                                                 bidirectional_1[1][0]            \n",
      "__________________________________________________________________________________________________\n",
      "concatenate_3 (Concatenate)     (None, 384)          0           lambda_1[0][0]                   \n",
      "                                                                 lambda_2[0][0]                   \n",
      "__________________________________________________________________________________________________\n",
      "dense_1 (Dense)                 (None, 200)          10600       batch_normalization_1[0][0]      \n",
      "__________________________________________________________________________________________________\n",
      "concatenate_4 (Concatenate)     (None, 256)          0           add_1[0][0]                      \n",
      "                                                                 lambda_3[0][0]                   \n",
      "__________________________________________________________________________________________________\n",
      "dropout_1 (Dropout)             (None, 384)          0           concatenate_3[0][0]              \n",
      "__________________________________________________________________________________________________\n",
      "dropout_3 (Dropout)             (None, 200)          0           dense_1[0][0]                    \n",
      "__________________________________________________________________________________________________\n",
      "dropout_2 (Dropout)             (None, 256)          0           concatenate_4[0][0]              \n",
      "__________________________________________________________________________________________________\n",
      "concatenate_5 (Concatenate)     (None, 840)          0           dropout_1[0][0]                  \n",
      "                                                                 dropout_3[0][0]                  \n",
      "                                                                 dropout_2[0][0]                  \n",
      "__________________________________________________________________________________________________\n",
      "dropout_4 (Dropout)             (None, 840)          0           concatenate_5[0][0]              \n",
      "__________________________________________________________________________________________________\n",
      "batch_normalization_2 (BatchNor (None, 840)          3360        dropout_4[0][0]                  \n",
      "__________________________________________________________________________________________________\n",
      "dense_2 (Dense)                 (None, 150)          126150      batch_normalization_2[0][0]      \n",
      "__________________________________________________________________________________________________\n",
      "dropout_5 (Dropout)             (None, 150)          0           dense_2[0][0]                    \n",
      "__________________________________________________________________________________________________\n",
      "batch_normalization_3 (BatchNor (None, 150)          600         dropout_5[0][0]                  \n",
      "__________________________________________________________________________________________________\n",
      "dense_3 (Dense)                 (None, 1)            151         batch_normalization_3[0][0]      \n",
      "==================================================================================================\n",
      "Total params: 1,830,241\n",
      "Trainable params: 498,857\n",
      "Non-trainable params: 1,331,384\n",
      "__________________________________________________________________________________________________\n"
     ]
    }
   ],
   "source": [
    "model.summary()"
   ]
  },
  {
   "cell_type": "code",
   "execution_count": 61,
   "metadata": {},
   "outputs": [],
   "source": [
    "early_stopping = EarlyStopping(monitor='val_loss', patience=5)\n",
    "best_model_path = 'model_store/lstm_cnn_fs_v2.h5'\n",
    "model_checkpoint = ModelCheckpoint(best_model_path, save_best_only=True, save_weights_only=True)"
   ]
  },
  {
   "cell_type": "code",
   "execution_count": 62,
   "metadata": {},
   "outputs": [
    {
     "name": "stdout",
     "output_type": "stream",
     "text": [
      "Train on 323432 samples, validate on 80858 samples\n",
      "Epoch 1/50\n",
      " - 64s - loss: 0.3028 - acc: 0.8564 - val_loss: 0.2598 - val_acc: 0.8780\n",
      "Epoch 2/50\n",
      " - 63s - loss: 0.2603 - acc: 0.8806 - val_loss: 0.2373 - val_acc: 0.8920\n",
      "Epoch 3/50\n",
      " - 63s - loss: 0.2457 - acc: 0.8883 - val_loss: 0.2323 - val_acc: 0.8948\n",
      "Epoch 4/50\n",
      " - 65s - loss: 0.2351 - acc: 0.8943 - val_loss: 0.2305 - val_acc: 0.8946\n",
      "Epoch 5/50\n",
      " - 65s - loss: 0.2263 - acc: 0.8982 - val_loss: 0.2221 - val_acc: 0.8999\n",
      "Epoch 6/50\n",
      " - 65s - loss: 0.2182 - acc: 0.9022 - val_loss: 0.2195 - val_acc: 0.9013\n",
      "Epoch 7/50\n",
      " - 64s - loss: 0.2128 - acc: 0.9058 - val_loss: 0.2183 - val_acc: 0.9025\n",
      "Epoch 8/50\n",
      " - 66s - loss: 0.2067 - acc: 0.9084 - val_loss: 0.2178 - val_acc: 0.9027\n",
      "Epoch 9/50\n",
      " - 65s - loss: 0.2015 - acc: 0.9105 - val_loss: 0.2189 - val_acc: 0.9026\n",
      "Epoch 10/50\n",
      " - 64s - loss: 0.1975 - acc: 0.9125 - val_loss: 0.2160 - val_acc: 0.9043\n",
      "Epoch 11/50\n",
      " - 63s - loss: 0.1935 - acc: 0.9144 - val_loss: 0.2176 - val_acc: 0.9030\n",
      "Epoch 12/50\n",
      " - 64s - loss: 0.1896 - acc: 0.9163 - val_loss: 0.2159 - val_acc: 0.9041\n",
      "Epoch 13/50\n",
      " - 64s - loss: 0.1866 - acc: 0.9176 - val_loss: 0.2161 - val_acc: 0.9039\n",
      "Epoch 14/50\n",
      " - 64s - loss: 0.1839 - acc: 0.9194 - val_loss: 0.2187 - val_acc: 0.9016\n",
      "Epoch 15/50\n",
      " - 65s - loss: 0.1810 - acc: 0.9206 - val_loss: 0.2205 - val_acc: 0.9035\n",
      "Epoch 16/50\n",
      " - 65s - loss: 0.1785 - acc: 0.9213 - val_loss: 0.2177 - val_acc: 0.9029\n",
      "Epoch 17/50\n",
      " - 66s - loss: 0.1757 - acc: 0.9231 - val_loss: 0.2191 - val_acc: 0.9034\n"
     ]
    }
   ],
   "source": [
    "hist = model.fit([X_train_1, X_train_2, X_train_fs],\n",
    "          y_train, \n",
    "          validation_data=([X_valid_1, X_valid_2, X_valid_fs], y_valid),\n",
    "          epochs=50,\n",
    "          batch_size=512,\n",
    "          shuffle=True,\n",
    "          callbacks=[early_stopping, model_checkpoint],\n",
    "          verbose = 2)"
   ]
  },
  {
   "cell_type": "code",
   "execution_count": 40,
   "metadata": {},
   "outputs": [],
   "source": [
    "# 加载测试数据\n",
    "fs_basic_test = pd.read_csv('feature_store/test_feature_basic.csv')\n",
    "fs_fuzz_test = pd.read_csv('feature_store/test_feature_fuzz.csv')\n",
    "fs_w2v_gnews_test = pd.read_csv('feature_store/test_feature_w2v_gnews.csv')\n",
    "fs_tfidf_test = pd.read_csv('feature_store/test_feature_tfidf.csv')\n",
    "fs_w2v_glove_test = pd.read_csv('feature_store/test_feature_w2v_glove.csv')\n",
    "fs_graph_test = pd.read_csv('feature_store/test_feature_graph.csv')\n",
    "fs_freq_test = pd.read_csv('feature_store/test_feature_freq.csv')\n",
    "\n",
    "# 填充缺失值\n",
    "fs_w2v_gnews_test.fillna(0,inplace=True)\n",
    "fs_w2v_glove_test.fillna(0,inplace=True)\n",
    "fs_tfidf_test.fillna(0,inplace=True)\n",
    "\n",
    "# 连接特征\n",
    "X_test = np.hstack((fs_basic_test, fs_fuzz_test, fs_w2v_gnews_test, fs_tfidf_test, fs_w2v_glove_test, fs_freq_test, fs_graph_test))\n",
    "# 处理异常值\n",
    "X_test[np.isinf(X_test)] = 0"
   ]
  },
  {
   "cell_type": "code",
   "execution_count": null,
   "metadata": {},
   "outputs": [],
   "source": [
    "model.load_weights(best_model_path)\n",
    "preds = model.predict([test_pad_1, test_pad_2, X_test], batch_size=2048, verbose=2)\n",
    "submission = pd.DataFrame({'test_id':test_ids,'is_duplicate':preds.ravel()})\n",
    "a = 0.174264424749 / 0.369197853026\n",
    "b = (1 - 0.174264424749) / (1 - 0.369197853026)\n",
    "submission['is_duplicate'] = submission.is_duplicate.apply(lambda x: a * x / (a * x + b * (1 - x)))\n",
    "submission.to_csv('submission/lstm_cnn_fs_v2.csv', index=False)"
   ]
  }
 ],
 "metadata": {
  "kernelspec": {
   "display_name": "Python [conda env:ai]",
   "language": "python",
   "name": "conda-env-ai-py"
  },
  "language_info": {
   "codemirror_mode": {
    "name": "ipython",
    "version": 3
   },
   "file_extension": ".py",
   "mimetype": "text/x-python",
   "name": "python",
   "nbconvert_exporter": "python",
   "pygments_lexer": "ipython3",
   "version": "3.6.9"
  }
 },
 "nbformat": 4,
 "nbformat_minor": 4
}
